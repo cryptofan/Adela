{
 "cells": [
  {
   "cell_type": "code",
   "execution_count": null,
   "metadata": {
    "collapsed": true
   },
   "outputs": [],
   "source": [
    "import scipy.io\n",
    "import numpy as np\n",
    "\n",
    " #read in the data:\n",
    "filename = '/Users/nataliabielczyk/Desktop/variousprojects/Adela/Adela_dane/subj101_MA_Natalia.mat'\n",
    "data = scipy.io.loadmat(filename)\n",
    "timeseries = data['EEG']['data'][0,0] #58 channels x the full run of 25min\n",
    "nchannels = timeseries.shape[0]"
   ]
  },
  {
   "cell_type": "code",
   "execution_count": null,
   "metadata": {
    "collapsed": true
   },
   "outputs": [],
   "source": [
    "# read channel names:\n",
    "channels = []\n",
    "for ind in range(nchannels):\n",
    "    channels.append(str(data['EEG']['chanlocs'][0,0][0,ind][0][0]))"
   ]
  },
  {
   "cell_type": "code",
   "execution_count": null,
   "metadata": {
    "collapsed": true
   },
   "outputs": [],
   "source": [
    "important_channels = ['C3','FCz'] "
   ]
  },
  {
   "cell_type": "code",
   "execution_count": null,
   "metadata": {
    "collapsed": true
   },
   "outputs": [],
   "source": [
    "ind_important_channels = []\n",
    "for ind in range(len(important_channels)):\n",
    "    ind_important_channels.append(channels.index(important_channels[ind]))"
   ]
  },
  {
   "cell_type": "code",
   "execution_count": null,
   "metadata": {},
   "outputs": [],
   "source": [
    "timeseries = np.transpose(timeseries)\n",
    "print timeseries.shape"
   ]
  },
  {
   "cell_type": "code",
   "execution_count": null,
   "metadata": {},
   "outputs": [],
   "source": [
    "# find the visual keys in the datasets:\n",
    "indexes_visualkeys = []\n",
    "visual_keys = []\n",
    "\n",
    "nevents = data['EEG']['event'][0,0].shape[1]\n",
    "for ind in range(nevents):\n",
    "    type_event = data['EEG']['event'][0,0][0,ind][0][0]\n",
    "    if type_event == 'visual_cue_e' or type_event == 'visual_cue_l':\n",
    "        indexes_visualkeys.append(ind)\n",
    "\n",
    "for ind in range(len(indexes_visualkeys)):      \n",
    "    visual_keys.append(int(data['EEG']['event'][0,0][0,indexes_visualkeys[ind]][2][0][0]))\n",
    "    \n",
    "print visual_keys    \n",
    "# resting state with eyes open do 17615, eyes closed to 35412\n",
    "# first visual cue: 35523"
   ]
  },
  {
   "cell_type": "markdown",
   "metadata": {},
   "source": [
    "##### "
   ]
  },
  {
   "cell_type": "code",
   "execution_count": null,
   "metadata": {},
   "outputs": [],
   "source": [
    "# plot coherence between each pair of channels, for the first 10, and for the last 10 epochs:\n",
    "from matplotlib import pyplot as plt\n",
    "nepochs = len(visual_keys)\n",
    "fs   = 1000 # [Hz]\n",
    "NFFT = 128\n",
    "corrs = []\n",
    "    \n",
    "# coherence function:\n",
    "\n",
    "\n",
    "for ind1 in range(nchannels):\n",
    "    for ind2 in range(nchannels):\n",
    "        print str(ind1+1) + ',' + str(ind2+1)\n",
    "        all_coh = np.zeros((65,nepochs))\n",
    "        for ind in range(nepochs):\n",
    "            epoch = timeseries[visual_keys[ind]:visual_keys[ind] + 2000, [ind1,ind2]]\n",
    "            cxy, f = plt.cohere(epoch[:,0], epoch[:,1], NFFT, fs)\n",
    "            #plt.xlabel('Frequency [Hz]')\n",
    "            #plt.ylabel('Coherence')\n",
    "            #plt.title('Epoch '+str(ind+1))\n",
    "            #plt.show()\n",
    "            \n",
    "            all_coh[:,ind] = cxy    \n",
    "        beginning = all_coh[:,0:5]\n",
    "        ending = all_coh[:,91:-1]\n",
    "    \n",
    "        beginning_mean = np.mean(beginning,axis=1)\n",
    "        beginning_std = np.std(beginning,axis=1)\n",
    "\n",
    "        ending_mean = np.mean(ending,axis=1)\n",
    "        ending_std = np.std(ending,axis=1)\n",
    "\n",
    "        plt.figure()\n",
    "        plt.plot(f, beginning_mean, 'k', color='#CC4F1B')\n",
    "        plt.fill_between(f, beginning_mean - beginning_std, beginning_mean + beginning_std,\n",
    "            alpha=0.5, edgecolor='#CC4F1B', facecolor='#FF9848')\n",
    "\n",
    "        plt.plot(f, ending_mean, 'k', color='#4C9900')\n",
    "        plt.fill_between(f, ending_mean - ending_std, ending_mean + ending_std,\n",
    "            alpha=0.5, edgecolor='#4C9900', facecolor='#CCFF99')\n",
    "            \n",
    "        plt.title('Coherence, ' + channels[ind1] + ' - ' + channels[ind2])\n",
    "        plt.show()"
   ]
  },
  {
   "cell_type": "code",
   "execution_count": null,
   "metadata": {},
   "outputs": [],
   "source": [
    "\n",
    "#all_coh = np.zeros((129,nepochs))\n",
    "#all_coh = np.zeros((65,nepochs))\n",
    "fs   = 1000 # [Hz]\n",
    "\n",
    "# NFFT = 64:\n",
    "NFFT = 64\n",
    "all_coh = np.zeros((33,nepochs))\n",
    "for ind in range(nepochs):\n",
    "    epoch = timeseries[visual_keys[ind]:visual_keys[ind] + 2000, [ind_important_channels[0],ind_important_channels[1]]]\n",
    "    cxy, f = plt.cohere(epoch[:,0], epoch[:,1], NFFT, fs)\n",
    "    #plt.xlabel('Frequency [Hz]')\n",
    "    #plt.ylabel('Coherence')\n",
    "    #plt.title('Epoch ' + str(ind+1))\n",
    "    #plt.show()\n",
    "            \n",
    "    all_coh[:,ind] = cxy    \n",
    "    \n",
    "beginning = all_coh[:,0:5]\n",
    "ending = all_coh[:,91:-1]\n",
    "    \n",
    "beginning_mean = np.mean(beginning,axis=1)\n",
    "beginning_std = np.std(beginning,axis=1)\n",
    "\n",
    "ending_mean = np.mean(ending,axis=1)\n",
    "ending_std = np.std(ending,axis=1)\n",
    "\n",
    "plt.figure()\n",
    "plt.plot(f, beginning_mean, 'k', color='#CC4F1B')\n",
    "plt.fill_between(f, beginning_mean - beginning_std, beginning_mean + beginning_std,\n",
    "    alpha=0.5, edgecolor='#CC4F1B', facecolor='#FF9848')\n",
    "\n",
    "plt.plot(f, ending_mean, 'k', color='#4C9900')\n",
    "plt.fill_between(f, ending_mean - ending_std, ending_mean + ending_std,\n",
    "    alpha=0.5, edgecolor='#4C9900', facecolor='#CCFF99')\n",
    "\n",
    "plt.title('Coherence, ' + important_channels[0] + ' - ' + important_channels[1] + ', NFFT = 64')\n",
    "plt.show()\n",
    "\n",
    "\n",
    "# -----------------------------\n",
    "# NFFT = 128:\n",
    "NFFT = 128\n",
    "all_coh = np.zeros((65,nepochs))\n",
    "for ind in range(nepochs):\n",
    "    epoch = timeseries[visual_keys[ind]:visual_keys[ind] + 2000, [ind_important_channels[0],ind_important_channels[1]]]\n",
    "    cxy, f = plt.cohere(epoch[:,0], epoch[:,1], NFFT, fs)\n",
    "    #plt.xlabel('Frequency [Hz]')\n",
    "    #plt.ylabel('Coherence')\n",
    "    #plt.title('Epoch ' + str(ind+1))\n",
    "    #plt.show()\n",
    "            \n",
    "    all_coh[:,ind] = cxy    \n",
    "    \n",
    "beginning = all_coh[:,0:5]\n",
    "ending = all_coh[:,91:-1]\n",
    "    \n",
    "beginning_mean = np.mean(beginning,axis=1)\n",
    "beginning_std = np.std(beginning,axis=1)\n",
    "\n",
    "ending_mean = np.mean(ending,axis=1)\n",
    "ending_std = np.std(ending,axis=1)\n",
    "\n",
    "plt.figure()\n",
    "plt.plot(f, beginning_mean, 'k', color='#CC4F1B')\n",
    "plt.fill_between(f, beginning_mean - beginning_std, beginning_mean + beginning_std,\n",
    "    alpha=0.5, edgecolor='#CC4F1B', facecolor='#FF9848')\n",
    "\n",
    "plt.plot(f, ending_mean, 'k', color='#4C9900')\n",
    "plt.fill_between(f, ending_mean - ending_std, ending_mean + ending_std,\n",
    "    alpha=0.5, edgecolor='#4C9900', facecolor='#CCFF99')\n",
    "\n",
    "plt.title('Coherence, ' + important_channels[0] + ' - ' + important_channels[1] + ', NFFT = 128')\n",
    "plt.show()"
   ]
  },
  {
   "cell_type": "code",
   "execution_count": null,
   "metadata": {
    "collapsed": true
   },
   "outputs": [],
   "source": []
  }
 ],
 "metadata": {
  "kernelspec": {
   "display_name": "Python 2",
   "language": "python",
   "name": "python2"
  },
  "language_info": {
   "codemirror_mode": {
    "name": "ipython",
    "version": 2
   },
   "file_extension": ".py",
   "mimetype": "text/x-python",
   "name": "python",
   "nbconvert_exporter": "python",
   "pygments_lexer": "ipython2",
   "version": "2.7.13"
  }
 },
 "nbformat": 4,
 "nbformat_minor": 2
}
